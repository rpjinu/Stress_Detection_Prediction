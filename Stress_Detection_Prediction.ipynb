{
  "nbformat": 4,
  "nbformat_minor": 0,
  "metadata": {
    "colab": {
      "provenance": []
    },
    "kernelspec": {
      "name": "python3",
      "display_name": "Python 3"
    },
    "language_info": {
      "name": "python"
    }
  },
  "cells": [
    {
      "cell_type": "code",
      "source": [
        "import pandas as pd\n",
        "import numpy as np\n",
        "import matplotlib.pyplot as plt\n",
        "import seaborn as sns\n",
        "from sklearn.model_selection import train_test_split\n",
        "from sklearn.metrics import mean_squared_error, r2_score\n",
        "from sklearn.linear_model import LinearRegression\n",
        "import joblib\n",
        "#warnings\n",
        "import warnings\n",
        "warnings.filterwarnings('ignore')"
      ],
      "metadata": {
        "id": "jWOyd6xAQFD1"
      },
      "execution_count": 48,
      "outputs": []
    },
    {
      "cell_type": "markdown",
      "source": [
        "#***Load the dataset***"
      ],
      "metadata": {
        "id": "DuD4AJzlLTcm"
      }
    },
    {
      "cell_type": "code",
      "source": [
        "df=pd.read_csv('/content/stress_detection.csv')"
      ],
      "metadata": {
        "id": "9pIB2xmkK_3J"
      },
      "execution_count": 18,
      "outputs": []
    },
    {
      "cell_type": "code",
      "source": [
        "df.head()"
      ],
      "metadata": {
        "id": "Jegir_0ZK_7N",
        "colab": {
          "base_uri": "https://localhost:8080/",
          "height": 226
        },
        "outputId": "df553575-d96e-4c69-e419-c6faf3df8307"
      },
      "execution_count": 19,
      "outputs": [
        {
          "output_type": "execute_result",
          "data": {
            "text/plain": [
              "   participant_id  day  PSS_score  Openness  Conscientiousness  Extraversion  \\\n",
              "0               1    1         34  2.322732           4.332193      1.185878   \n",
              "1               1    2         37  1.761436           3.254120      3.907281   \n",
              "2               1    3         30  3.025887           1.855002      2.045900   \n",
              "3               1    4         16  1.948370           4.966676      3.345225   \n",
              "4               1    5         32  3.343484           2.065936      3.137843   \n",
              "\n",
              "   Agreeableness  Neuroticism  sleep_time  wake_time  sleep_duration  \\\n",
              "0       1.570213     3.782094    7.726792   5.190660        6.572069   \n",
              "1       4.072512     1.997145    7.312674   6.170717        8.030168   \n",
              "2       2.317493     3.619225    6.992060   5.318825        7.102420   \n",
              "3       1.607756     3.583524    8.886914   8.061075        8.123294   \n",
              "4       2.118061     2.567347    7.811705   7.312145        7.785143   \n",
              "\n",
              "   PSQI_score  call_duration  num_calls  num_sms  screen_on_time  \\\n",
              "0           1       3.924527         12       32       10.703714   \n",
              "1           4      58.318004          3       41       11.012939   \n",
              "2           1       4.941043          4       48        4.877372   \n",
              "3           3       0.295373         11       38        3.462956   \n",
              "4           3      22.300571         17       17        4.861046   \n",
              "\n",
              "   skin_conductance  accelerometer  mobility_radius  mobility_distance  \n",
              "0          3.115730       0.161717         1.145179           2.196851  \n",
              "1          0.959144       0.985587         1.021133           0.737825  \n",
              "2          3.311629       1.877445         0.478179           0.911673  \n",
              "3          0.625721       0.494921         0.630549           3.911418  \n",
              "4          0.622609       1.342600         0.254090           1.605132  "
            ],
            "text/html": [
              "\n",
              "  <div id=\"df-4859592c-b0ba-4dc9-b7f2-045f0585eeb0\" class=\"colab-df-container\">\n",
              "    <div>\n",
              "<style scoped>\n",
              "    .dataframe tbody tr th:only-of-type {\n",
              "        vertical-align: middle;\n",
              "    }\n",
              "\n",
              "    .dataframe tbody tr th {\n",
              "        vertical-align: top;\n",
              "    }\n",
              "\n",
              "    .dataframe thead th {\n",
              "        text-align: right;\n",
              "    }\n",
              "</style>\n",
              "<table border=\"1\" class=\"dataframe\">\n",
              "  <thead>\n",
              "    <tr style=\"text-align: right;\">\n",
              "      <th></th>\n",
              "      <th>participant_id</th>\n",
              "      <th>day</th>\n",
              "      <th>PSS_score</th>\n",
              "      <th>Openness</th>\n",
              "      <th>Conscientiousness</th>\n",
              "      <th>Extraversion</th>\n",
              "      <th>Agreeableness</th>\n",
              "      <th>Neuroticism</th>\n",
              "      <th>sleep_time</th>\n",
              "      <th>wake_time</th>\n",
              "      <th>sleep_duration</th>\n",
              "      <th>PSQI_score</th>\n",
              "      <th>call_duration</th>\n",
              "      <th>num_calls</th>\n",
              "      <th>num_sms</th>\n",
              "      <th>screen_on_time</th>\n",
              "      <th>skin_conductance</th>\n",
              "      <th>accelerometer</th>\n",
              "      <th>mobility_radius</th>\n",
              "      <th>mobility_distance</th>\n",
              "    </tr>\n",
              "  </thead>\n",
              "  <tbody>\n",
              "    <tr>\n",
              "      <th>0</th>\n",
              "      <td>1</td>\n",
              "      <td>1</td>\n",
              "      <td>34</td>\n",
              "      <td>2.322732</td>\n",
              "      <td>4.332193</td>\n",
              "      <td>1.185878</td>\n",
              "      <td>1.570213</td>\n",
              "      <td>3.782094</td>\n",
              "      <td>7.726792</td>\n",
              "      <td>5.190660</td>\n",
              "      <td>6.572069</td>\n",
              "      <td>1</td>\n",
              "      <td>3.924527</td>\n",
              "      <td>12</td>\n",
              "      <td>32</td>\n",
              "      <td>10.703714</td>\n",
              "      <td>3.115730</td>\n",
              "      <td>0.161717</td>\n",
              "      <td>1.145179</td>\n",
              "      <td>2.196851</td>\n",
              "    </tr>\n",
              "    <tr>\n",
              "      <th>1</th>\n",
              "      <td>1</td>\n",
              "      <td>2</td>\n",
              "      <td>37</td>\n",
              "      <td>1.761436</td>\n",
              "      <td>3.254120</td>\n",
              "      <td>3.907281</td>\n",
              "      <td>4.072512</td>\n",
              "      <td>1.997145</td>\n",
              "      <td>7.312674</td>\n",
              "      <td>6.170717</td>\n",
              "      <td>8.030168</td>\n",
              "      <td>4</td>\n",
              "      <td>58.318004</td>\n",
              "      <td>3</td>\n",
              "      <td>41</td>\n",
              "      <td>11.012939</td>\n",
              "      <td>0.959144</td>\n",
              "      <td>0.985587</td>\n",
              "      <td>1.021133</td>\n",
              "      <td>0.737825</td>\n",
              "    </tr>\n",
              "    <tr>\n",
              "      <th>2</th>\n",
              "      <td>1</td>\n",
              "      <td>3</td>\n",
              "      <td>30</td>\n",
              "      <td>3.025887</td>\n",
              "      <td>1.855002</td>\n",
              "      <td>2.045900</td>\n",
              "      <td>2.317493</td>\n",
              "      <td>3.619225</td>\n",
              "      <td>6.992060</td>\n",
              "      <td>5.318825</td>\n",
              "      <td>7.102420</td>\n",
              "      <td>1</td>\n",
              "      <td>4.941043</td>\n",
              "      <td>4</td>\n",
              "      <td>48</td>\n",
              "      <td>4.877372</td>\n",
              "      <td>3.311629</td>\n",
              "      <td>1.877445</td>\n",
              "      <td>0.478179</td>\n",
              "      <td>0.911673</td>\n",
              "    </tr>\n",
              "    <tr>\n",
              "      <th>3</th>\n",
              "      <td>1</td>\n",
              "      <td>4</td>\n",
              "      <td>16</td>\n",
              "      <td>1.948370</td>\n",
              "      <td>4.966676</td>\n",
              "      <td>3.345225</td>\n",
              "      <td>1.607756</td>\n",
              "      <td>3.583524</td>\n",
              "      <td>8.886914</td>\n",
              "      <td>8.061075</td>\n",
              "      <td>8.123294</td>\n",
              "      <td>3</td>\n",
              "      <td>0.295373</td>\n",
              "      <td>11</td>\n",
              "      <td>38</td>\n",
              "      <td>3.462956</td>\n",
              "      <td>0.625721</td>\n",
              "      <td>0.494921</td>\n",
              "      <td>0.630549</td>\n",
              "      <td>3.911418</td>\n",
              "    </tr>\n",
              "    <tr>\n",
              "      <th>4</th>\n",
              "      <td>1</td>\n",
              "      <td>5</td>\n",
              "      <td>32</td>\n",
              "      <td>3.343484</td>\n",
              "      <td>2.065936</td>\n",
              "      <td>3.137843</td>\n",
              "      <td>2.118061</td>\n",
              "      <td>2.567347</td>\n",
              "      <td>7.811705</td>\n",
              "      <td>7.312145</td>\n",
              "      <td>7.785143</td>\n",
              "      <td>3</td>\n",
              "      <td>22.300571</td>\n",
              "      <td>17</td>\n",
              "      <td>17</td>\n",
              "      <td>4.861046</td>\n",
              "      <td>0.622609</td>\n",
              "      <td>1.342600</td>\n",
              "      <td>0.254090</td>\n",
              "      <td>1.605132</td>\n",
              "    </tr>\n",
              "  </tbody>\n",
              "</table>\n",
              "</div>\n",
              "    <div class=\"colab-df-buttons\">\n",
              "\n",
              "  <div class=\"colab-df-container\">\n",
              "    <button class=\"colab-df-convert\" onclick=\"convertToInteractive('df-4859592c-b0ba-4dc9-b7f2-045f0585eeb0')\"\n",
              "            title=\"Convert this dataframe to an interactive table.\"\n",
              "            style=\"display:none;\">\n",
              "\n",
              "  <svg xmlns=\"http://www.w3.org/2000/svg\" height=\"24px\" viewBox=\"0 -960 960 960\">\n",
              "    <path d=\"M120-120v-720h720v720H120Zm60-500h600v-160H180v160Zm220 220h160v-160H400v160Zm0 220h160v-160H400v160ZM180-400h160v-160H180v160Zm440 0h160v-160H620v160ZM180-180h160v-160H180v160Zm440 0h160v-160H620v160Z\"/>\n",
              "  </svg>\n",
              "    </button>\n",
              "\n",
              "  <style>\n",
              "    .colab-df-container {\n",
              "      display:flex;\n",
              "      gap: 12px;\n",
              "    }\n",
              "\n",
              "    .colab-df-convert {\n",
              "      background-color: #E8F0FE;\n",
              "      border: none;\n",
              "      border-radius: 50%;\n",
              "      cursor: pointer;\n",
              "      display: none;\n",
              "      fill: #1967D2;\n",
              "      height: 32px;\n",
              "      padding: 0 0 0 0;\n",
              "      width: 32px;\n",
              "    }\n",
              "\n",
              "    .colab-df-convert:hover {\n",
              "      background-color: #E2EBFA;\n",
              "      box-shadow: 0px 1px 2px rgba(60, 64, 67, 0.3), 0px 1px 3px 1px rgba(60, 64, 67, 0.15);\n",
              "      fill: #174EA6;\n",
              "    }\n",
              "\n",
              "    .colab-df-buttons div {\n",
              "      margin-bottom: 4px;\n",
              "    }\n",
              "\n",
              "    [theme=dark] .colab-df-convert {\n",
              "      background-color: #3B4455;\n",
              "      fill: #D2E3FC;\n",
              "    }\n",
              "\n",
              "    [theme=dark] .colab-df-convert:hover {\n",
              "      background-color: #434B5C;\n",
              "      box-shadow: 0px 1px 3px 1px rgba(0, 0, 0, 0.15);\n",
              "      filter: drop-shadow(0px 1px 2px rgba(0, 0, 0, 0.3));\n",
              "      fill: #FFFFFF;\n",
              "    }\n",
              "  </style>\n",
              "\n",
              "    <script>\n",
              "      const buttonEl =\n",
              "        document.querySelector('#df-4859592c-b0ba-4dc9-b7f2-045f0585eeb0 button.colab-df-convert');\n",
              "      buttonEl.style.display =\n",
              "        google.colab.kernel.accessAllowed ? 'block' : 'none';\n",
              "\n",
              "      async function convertToInteractive(key) {\n",
              "        const element = document.querySelector('#df-4859592c-b0ba-4dc9-b7f2-045f0585eeb0');\n",
              "        const dataTable =\n",
              "          await google.colab.kernel.invokeFunction('convertToInteractive',\n",
              "                                                    [key], {});\n",
              "        if (!dataTable) return;\n",
              "\n",
              "        const docLinkHtml = 'Like what you see? Visit the ' +\n",
              "          '<a target=\"_blank\" href=https://colab.research.google.com/notebooks/data_table.ipynb>data table notebook</a>'\n",
              "          + ' to learn more about interactive tables.';\n",
              "        element.innerHTML = '';\n",
              "        dataTable['output_type'] = 'display_data';\n",
              "        await google.colab.output.renderOutput(dataTable, element);\n",
              "        const docLink = document.createElement('div');\n",
              "        docLink.innerHTML = docLinkHtml;\n",
              "        element.appendChild(docLink);\n",
              "      }\n",
              "    </script>\n",
              "  </div>\n",
              "\n",
              "\n",
              "<div id=\"df-d4d6d161-f4d2-42d4-b186-130e590c4c85\">\n",
              "  <button class=\"colab-df-quickchart\" onclick=\"quickchart('df-d4d6d161-f4d2-42d4-b186-130e590c4c85')\"\n",
              "            title=\"Suggest charts\"\n",
              "            style=\"display:none;\">\n",
              "\n",
              "<svg xmlns=\"http://www.w3.org/2000/svg\" height=\"24px\"viewBox=\"0 0 24 24\"\n",
              "     width=\"24px\">\n",
              "    <g>\n",
              "        <path d=\"M19 3H5c-1.1 0-2 .9-2 2v14c0 1.1.9 2 2 2h14c1.1 0 2-.9 2-2V5c0-1.1-.9-2-2-2zM9 17H7v-7h2v7zm4 0h-2V7h2v10zm4 0h-2v-4h2v4z\"/>\n",
              "    </g>\n",
              "</svg>\n",
              "  </button>\n",
              "\n",
              "<style>\n",
              "  .colab-df-quickchart {\n",
              "      --bg-color: #E8F0FE;\n",
              "      --fill-color: #1967D2;\n",
              "      --hover-bg-color: #E2EBFA;\n",
              "      --hover-fill-color: #174EA6;\n",
              "      --disabled-fill-color: #AAA;\n",
              "      --disabled-bg-color: #DDD;\n",
              "  }\n",
              "\n",
              "  [theme=dark] .colab-df-quickchart {\n",
              "      --bg-color: #3B4455;\n",
              "      --fill-color: #D2E3FC;\n",
              "      --hover-bg-color: #434B5C;\n",
              "      --hover-fill-color: #FFFFFF;\n",
              "      --disabled-bg-color: #3B4455;\n",
              "      --disabled-fill-color: #666;\n",
              "  }\n",
              "\n",
              "  .colab-df-quickchart {\n",
              "    background-color: var(--bg-color);\n",
              "    border: none;\n",
              "    border-radius: 50%;\n",
              "    cursor: pointer;\n",
              "    display: none;\n",
              "    fill: var(--fill-color);\n",
              "    height: 32px;\n",
              "    padding: 0;\n",
              "    width: 32px;\n",
              "  }\n",
              "\n",
              "  .colab-df-quickchart:hover {\n",
              "    background-color: var(--hover-bg-color);\n",
              "    box-shadow: 0 1px 2px rgba(60, 64, 67, 0.3), 0 1px 3px 1px rgba(60, 64, 67, 0.15);\n",
              "    fill: var(--button-hover-fill-color);\n",
              "  }\n",
              "\n",
              "  .colab-df-quickchart-complete:disabled,\n",
              "  .colab-df-quickchart-complete:disabled:hover {\n",
              "    background-color: var(--disabled-bg-color);\n",
              "    fill: var(--disabled-fill-color);\n",
              "    box-shadow: none;\n",
              "  }\n",
              "\n",
              "  .colab-df-spinner {\n",
              "    border: 2px solid var(--fill-color);\n",
              "    border-color: transparent;\n",
              "    border-bottom-color: var(--fill-color);\n",
              "    animation:\n",
              "      spin 1s steps(1) infinite;\n",
              "  }\n",
              "\n",
              "  @keyframes spin {\n",
              "    0% {\n",
              "      border-color: transparent;\n",
              "      border-bottom-color: var(--fill-color);\n",
              "      border-left-color: var(--fill-color);\n",
              "    }\n",
              "    20% {\n",
              "      border-color: transparent;\n",
              "      border-left-color: var(--fill-color);\n",
              "      border-top-color: var(--fill-color);\n",
              "    }\n",
              "    30% {\n",
              "      border-color: transparent;\n",
              "      border-left-color: var(--fill-color);\n",
              "      border-top-color: var(--fill-color);\n",
              "      border-right-color: var(--fill-color);\n",
              "    }\n",
              "    40% {\n",
              "      border-color: transparent;\n",
              "      border-right-color: var(--fill-color);\n",
              "      border-top-color: var(--fill-color);\n",
              "    }\n",
              "    60% {\n",
              "      border-color: transparent;\n",
              "      border-right-color: var(--fill-color);\n",
              "    }\n",
              "    80% {\n",
              "      border-color: transparent;\n",
              "      border-right-color: var(--fill-color);\n",
              "      border-bottom-color: var(--fill-color);\n",
              "    }\n",
              "    90% {\n",
              "      border-color: transparent;\n",
              "      border-bottom-color: var(--fill-color);\n",
              "    }\n",
              "  }\n",
              "</style>\n",
              "\n",
              "  <script>\n",
              "    async function quickchart(key) {\n",
              "      const quickchartButtonEl =\n",
              "        document.querySelector('#' + key + ' button');\n",
              "      quickchartButtonEl.disabled = true;  // To prevent multiple clicks.\n",
              "      quickchartButtonEl.classList.add('colab-df-spinner');\n",
              "      try {\n",
              "        const charts = await google.colab.kernel.invokeFunction(\n",
              "            'suggestCharts', [key], {});\n",
              "      } catch (error) {\n",
              "        console.error('Error during call to suggestCharts:', error);\n",
              "      }\n",
              "      quickchartButtonEl.classList.remove('colab-df-spinner');\n",
              "      quickchartButtonEl.classList.add('colab-df-quickchart-complete');\n",
              "    }\n",
              "    (() => {\n",
              "      let quickchartButtonEl =\n",
              "        document.querySelector('#df-d4d6d161-f4d2-42d4-b186-130e590c4c85 button');\n",
              "      quickchartButtonEl.style.display =\n",
              "        google.colab.kernel.accessAllowed ? 'block' : 'none';\n",
              "    })();\n",
              "  </script>\n",
              "</div>\n",
              "\n",
              "    </div>\n",
              "  </div>\n"
            ],
            "application/vnd.google.colaboratory.intrinsic+json": {
              "type": "dataframe",
              "variable_name": "df",
              "summary": "{\n  \"name\": \"df\",\n  \"rows\": 3000,\n  \"fields\": [\n    {\n      \"column\": \"participant_id\",\n      \"properties\": {\n        \"dtype\": \"number\",\n        \"std\": 28,\n        \"min\": 1,\n        \"max\": 100,\n        \"num_unique_values\": 100,\n        \"samples\": [\n          84,\n          54,\n          71\n        ],\n        \"semantic_type\": \"\",\n        \"description\": \"\"\n      }\n    },\n    {\n      \"column\": \"day\",\n      \"properties\": {\n        \"dtype\": \"number\",\n        \"std\": 8,\n        \"min\": 1,\n        \"max\": 30,\n        \"num_unique_values\": 30,\n        \"samples\": [\n          28,\n          16,\n          24\n        ],\n        \"semantic_type\": \"\",\n        \"description\": \"\"\n      }\n    },\n    {\n      \"column\": \"PSS_score\",\n      \"properties\": {\n        \"dtype\": \"number\",\n        \"std\": 8,\n        \"min\": 10,\n        \"max\": 39,\n        \"num_unique_values\": 30,\n        \"samples\": [\n          29,\n          23,\n          26\n        ],\n        \"semantic_type\": \"\",\n        \"description\": \"\"\n      }\n    },\n    {\n      \"column\": \"Openness\",\n      \"properties\": {\n        \"dtype\": \"number\",\n        \"std\": 1.1593098401568531,\n        \"min\": 1.005003488,\n        \"max\": 4.997404661,\n        \"num_unique_values\": 3000,\n        \"samples\": [\n          2.311416588,\n          4.073602146,\n          4.309860469\n        ],\n        \"semantic_type\": \"\",\n        \"description\": \"\"\n      }\n    },\n    {\n      \"column\": \"Conscientiousness\",\n      \"properties\": {\n        \"dtype\": \"number\",\n        \"std\": 1.1405110351103602,\n        \"min\": 1.000982489,\n        \"max\": 4.9991371,\n        \"num_unique_values\": 3000,\n        \"samples\": [\n          3.400593173,\n          2.501011579,\n          3.77994288\n        ],\n        \"semantic_type\": \"\",\n        \"description\": \"\"\n      }\n    },\n    {\n      \"column\": \"Extraversion\",\n      \"properties\": {\n        \"dtype\": \"number\",\n        \"std\": 1.143507495423688,\n        \"min\": 1.000584289,\n        \"max\": 4.997641772,\n        \"num_unique_values\": 3000,\n        \"samples\": [\n          3.154282125,\n          4.577669098,\n          4.030465629\n        ],\n        \"semantic_type\": \"\",\n        \"description\": \"\"\n      }\n    },\n    {\n      \"column\": \"Agreeableness\",\n      \"properties\": {\n        \"dtype\": \"number\",\n        \"std\": 1.161073693104234,\n        \"min\": 1.002205904,\n        \"max\": 4.99988084,\n        \"num_unique_values\": 3000,\n        \"samples\": [\n          2.933391223,\n          2.314413125,\n          3.961147325\n        ],\n        \"semantic_type\": \"\",\n        \"description\": \"\"\n      }\n    },\n    {\n      \"column\": \"Neuroticism\",\n      \"properties\": {\n        \"dtype\": \"number\",\n        \"std\": 1.1586237850597636,\n        \"min\": 1.000172846,\n        \"max\": 4.996408108,\n        \"num_unique_values\": 3000,\n        \"samples\": [\n          2.661068447,\n          3.183414263,\n          1.495240591\n        ],\n        \"semantic_type\": \"\",\n        \"description\": \"\"\n      }\n    },\n    {\n      \"column\": \"sleep_time\",\n      \"properties\": {\n        \"dtype\": \"number\",\n        \"std\": 1.160441664856696,\n        \"min\": 5.003290697,\n        \"max\": 8.999947964,\n        \"num_unique_values\": 3000,\n        \"samples\": [\n          7.018024688,\n          7.516059614,\n          7.51051785\n        ],\n        \"semantic_type\": \"\",\n        \"description\": \"\"\n      }\n    },\n    {\n      \"column\": \"wake_time\",\n      \"properties\": {\n        \"dtype\": \"number\",\n        \"std\": 1.1612253034271327,\n        \"min\": 5.00192651,\n        \"max\": 8.998370732,\n        \"num_unique_values\": 3000,\n        \"samples\": [\n          6.486675968,\n          5.565168088,\n          5.474510162\n        ],\n        \"semantic_type\": \"\",\n        \"description\": \"\"\n      }\n    },\n    {\n      \"column\": \"sleep_duration\",\n      \"properties\": {\n        \"dtype\": \"number\",\n        \"std\": 0.8676015584249042,\n        \"min\": 6.000560973,\n        \"max\": 8.999061409,\n        \"num_unique_values\": 3000,\n        \"samples\": [\n          8.09892737,\n          8.52906215,\n          7.876139813\n        ],\n        \"semantic_type\": \"\",\n        \"description\": \"\"\n      }\n    },\n    {\n      \"column\": \"PSQI_score\",\n      \"properties\": {\n        \"dtype\": \"number\",\n        \"std\": 1,\n        \"min\": 1,\n        \"max\": 4,\n        \"num_unique_values\": 4,\n        \"samples\": [\n          4,\n          2,\n          1\n        ],\n        \"semantic_type\": \"\",\n        \"description\": \"\"\n      }\n    },\n    {\n      \"column\": \"call_duration\",\n      \"properties\": {\n        \"dtype\": \"number\",\n        \"std\": 17.563026861019665,\n        \"min\": 0.002886141,\n        \"max\": 59.98307358,\n        \"num_unique_values\": 3000,\n        \"samples\": [\n          24.98858545,\n          39.99737574,\n          16.15384606\n        ],\n        \"semantic_type\": \"\",\n        \"description\": \"\"\n      }\n    },\n    {\n      \"column\": \"num_calls\",\n      \"properties\": {\n        \"dtype\": \"number\",\n        \"std\": 5,\n        \"min\": 0,\n        \"max\": 19,\n        \"num_unique_values\": 20,\n        \"samples\": [\n          12,\n          13,\n          1\n        ],\n        \"semantic_type\": \"\",\n        \"description\": \"\"\n      }\n    },\n    {\n      \"column\": \"num_sms\",\n      \"properties\": {\n        \"dtype\": \"number\",\n        \"std\": 14,\n        \"min\": 0,\n        \"max\": 49,\n        \"num_unique_values\": 50,\n        \"samples\": [\n          40,\n          15,\n          0\n        ],\n        \"semantic_type\": \"\",\n        \"description\": \"\"\n      }\n    },\n    {\n      \"column\": \"screen_on_time\",\n      \"properties\": {\n        \"dtype\": \"number\",\n        \"std\": 3.1456662845809094,\n        \"min\": 1.006874242,\n        \"max\": 11.99787122,\n        \"num_unique_values\": 3000,\n        \"samples\": [\n          4.286048587,\n          2.583883195,\n          11.93886744\n        ],\n        \"semantic_type\": \"\",\n        \"description\": \"\"\n      }\n    },\n    {\n      \"column\": \"skin_conductance\",\n      \"properties\": {\n        \"dtype\": \"number\",\n        \"std\": 1.2827515636267375,\n        \"min\": 0.501594763,\n        \"max\": 4.999103926,\n        \"num_unique_values\": 3000,\n        \"samples\": [\n          2.075852632,\n          2.299757266,\n          4.429931828\n        ],\n        \"semantic_type\": \"\",\n        \"description\": \"\"\n      }\n    },\n    {\n      \"column\": \"accelerometer\",\n      \"properties\": {\n        \"dtype\": \"number\",\n        \"std\": 0.6885414964896129,\n        \"min\": 0.100790508,\n        \"max\": 2.499946388,\n        \"num_unique_values\": 3000,\n        \"samples\": [\n          1.935948811,\n          0.493005608,\n          0.687794026\n        ],\n        \"semantic_type\": \"\",\n        \"description\": \"\"\n      }\n    },\n    {\n      \"column\": \"mobility_radius\",\n      \"properties\": {\n        \"dtype\": \"number\",\n        \"std\": 0.40252720164794953,\n        \"min\": 0.100041356,\n        \"max\": 1.499889808,\n        \"num_unique_values\": 3000,\n        \"samples\": [\n          0.486247491,\n          0.125782713,\n          1.24979765\n        ],\n        \"semantic_type\": \"\",\n        \"description\": \"\"\n      }\n    },\n    {\n      \"column\": \"mobility_distance\",\n      \"properties\": {\n        \"dtype\": \"number\",\n        \"std\": 1.3068180543456864,\n        \"min\": 0.501621966,\n        \"max\": 4.999928983,\n        \"num_unique_values\": 3000,\n        \"samples\": [\n          4.066899976,\n          1.326426922,\n          4.376271378\n        ],\n        \"semantic_type\": \"\",\n        \"description\": \"\"\n      }\n    }\n  ]\n}"
            }
          },
          "metadata": {},
          "execution_count": 19
        }
      ]
    },
    {
      "cell_type": "code",
      "source": [
        "#to see all column\n",
        "pd.set_option('display.max_columns',None)"
      ],
      "metadata": {
        "id": "jM12jiFEXbYX"
      },
      "execution_count": 20,
      "outputs": []
    },
    {
      "cell_type": "code",
      "source": [
        "df.head()"
      ],
      "metadata": {
        "id": "9Au8KEhvXhZg",
        "outputId": "692c84e0-47af-49d2-e22d-06f41e84efa5",
        "colab": {
          "base_uri": "https://localhost:8080/",
          "height": 226
        }
      },
      "execution_count": 21,
      "outputs": [
        {
          "output_type": "execute_result",
          "data": {
            "text/plain": [
              "   participant_id  day  PSS_score  Openness  Conscientiousness  Extraversion  \\\n",
              "0               1    1         34  2.322732           4.332193      1.185878   \n",
              "1               1    2         37  1.761436           3.254120      3.907281   \n",
              "2               1    3         30  3.025887           1.855002      2.045900   \n",
              "3               1    4         16  1.948370           4.966676      3.345225   \n",
              "4               1    5         32  3.343484           2.065936      3.137843   \n",
              "\n",
              "   Agreeableness  Neuroticism  sleep_time  wake_time  sleep_duration  \\\n",
              "0       1.570213     3.782094    7.726792   5.190660        6.572069   \n",
              "1       4.072512     1.997145    7.312674   6.170717        8.030168   \n",
              "2       2.317493     3.619225    6.992060   5.318825        7.102420   \n",
              "3       1.607756     3.583524    8.886914   8.061075        8.123294   \n",
              "4       2.118061     2.567347    7.811705   7.312145        7.785143   \n",
              "\n",
              "   PSQI_score  call_duration  num_calls  num_sms  screen_on_time  \\\n",
              "0           1       3.924527         12       32       10.703714   \n",
              "1           4      58.318004          3       41       11.012939   \n",
              "2           1       4.941043          4       48        4.877372   \n",
              "3           3       0.295373         11       38        3.462956   \n",
              "4           3      22.300571         17       17        4.861046   \n",
              "\n",
              "   skin_conductance  accelerometer  mobility_radius  mobility_distance  \n",
              "0          3.115730       0.161717         1.145179           2.196851  \n",
              "1          0.959144       0.985587         1.021133           0.737825  \n",
              "2          3.311629       1.877445         0.478179           0.911673  \n",
              "3          0.625721       0.494921         0.630549           3.911418  \n",
              "4          0.622609       1.342600         0.254090           1.605132  "
            ],
            "text/html": [
              "\n",
              "  <div id=\"df-0336731a-9e96-42e0-af97-34e7f7601337\" class=\"colab-df-container\">\n",
              "    <div>\n",
              "<style scoped>\n",
              "    .dataframe tbody tr th:only-of-type {\n",
              "        vertical-align: middle;\n",
              "    }\n",
              "\n",
              "    .dataframe tbody tr th {\n",
              "        vertical-align: top;\n",
              "    }\n",
              "\n",
              "    .dataframe thead th {\n",
              "        text-align: right;\n",
              "    }\n",
              "</style>\n",
              "<table border=\"1\" class=\"dataframe\">\n",
              "  <thead>\n",
              "    <tr style=\"text-align: right;\">\n",
              "      <th></th>\n",
              "      <th>participant_id</th>\n",
              "      <th>day</th>\n",
              "      <th>PSS_score</th>\n",
              "      <th>Openness</th>\n",
              "      <th>Conscientiousness</th>\n",
              "      <th>Extraversion</th>\n",
              "      <th>Agreeableness</th>\n",
              "      <th>Neuroticism</th>\n",
              "      <th>sleep_time</th>\n",
              "      <th>wake_time</th>\n",
              "      <th>sleep_duration</th>\n",
              "      <th>PSQI_score</th>\n",
              "      <th>call_duration</th>\n",
              "      <th>num_calls</th>\n",
              "      <th>num_sms</th>\n",
              "      <th>screen_on_time</th>\n",
              "      <th>skin_conductance</th>\n",
              "      <th>accelerometer</th>\n",
              "      <th>mobility_radius</th>\n",
              "      <th>mobility_distance</th>\n",
              "    </tr>\n",
              "  </thead>\n",
              "  <tbody>\n",
              "    <tr>\n",
              "      <th>0</th>\n",
              "      <td>1</td>\n",
              "      <td>1</td>\n",
              "      <td>34</td>\n",
              "      <td>2.322732</td>\n",
              "      <td>4.332193</td>\n",
              "      <td>1.185878</td>\n",
              "      <td>1.570213</td>\n",
              "      <td>3.782094</td>\n",
              "      <td>7.726792</td>\n",
              "      <td>5.190660</td>\n",
              "      <td>6.572069</td>\n",
              "      <td>1</td>\n",
              "      <td>3.924527</td>\n",
              "      <td>12</td>\n",
              "      <td>32</td>\n",
              "      <td>10.703714</td>\n",
              "      <td>3.115730</td>\n",
              "      <td>0.161717</td>\n",
              "      <td>1.145179</td>\n",
              "      <td>2.196851</td>\n",
              "    </tr>\n",
              "    <tr>\n",
              "      <th>1</th>\n",
              "      <td>1</td>\n",
              "      <td>2</td>\n",
              "      <td>37</td>\n",
              "      <td>1.761436</td>\n",
              "      <td>3.254120</td>\n",
              "      <td>3.907281</td>\n",
              "      <td>4.072512</td>\n",
              "      <td>1.997145</td>\n",
              "      <td>7.312674</td>\n",
              "      <td>6.170717</td>\n",
              "      <td>8.030168</td>\n",
              "      <td>4</td>\n",
              "      <td>58.318004</td>\n",
              "      <td>3</td>\n",
              "      <td>41</td>\n",
              "      <td>11.012939</td>\n",
              "      <td>0.959144</td>\n",
              "      <td>0.985587</td>\n",
              "      <td>1.021133</td>\n",
              "      <td>0.737825</td>\n",
              "    </tr>\n",
              "    <tr>\n",
              "      <th>2</th>\n",
              "      <td>1</td>\n",
              "      <td>3</td>\n",
              "      <td>30</td>\n",
              "      <td>3.025887</td>\n",
              "      <td>1.855002</td>\n",
              "      <td>2.045900</td>\n",
              "      <td>2.317493</td>\n",
              "      <td>3.619225</td>\n",
              "      <td>6.992060</td>\n",
              "      <td>5.318825</td>\n",
              "      <td>7.102420</td>\n",
              "      <td>1</td>\n",
              "      <td>4.941043</td>\n",
              "      <td>4</td>\n",
              "      <td>48</td>\n",
              "      <td>4.877372</td>\n",
              "      <td>3.311629</td>\n",
              "      <td>1.877445</td>\n",
              "      <td>0.478179</td>\n",
              "      <td>0.911673</td>\n",
              "    </tr>\n",
              "    <tr>\n",
              "      <th>3</th>\n",
              "      <td>1</td>\n",
              "      <td>4</td>\n",
              "      <td>16</td>\n",
              "      <td>1.948370</td>\n",
              "      <td>4.966676</td>\n",
              "      <td>3.345225</td>\n",
              "      <td>1.607756</td>\n",
              "      <td>3.583524</td>\n",
              "      <td>8.886914</td>\n",
              "      <td>8.061075</td>\n",
              "      <td>8.123294</td>\n",
              "      <td>3</td>\n",
              "      <td>0.295373</td>\n",
              "      <td>11</td>\n",
              "      <td>38</td>\n",
              "      <td>3.462956</td>\n",
              "      <td>0.625721</td>\n",
              "      <td>0.494921</td>\n",
              "      <td>0.630549</td>\n",
              "      <td>3.911418</td>\n",
              "    </tr>\n",
              "    <tr>\n",
              "      <th>4</th>\n",
              "      <td>1</td>\n",
              "      <td>5</td>\n",
              "      <td>32</td>\n",
              "      <td>3.343484</td>\n",
              "      <td>2.065936</td>\n",
              "      <td>3.137843</td>\n",
              "      <td>2.118061</td>\n",
              "      <td>2.567347</td>\n",
              "      <td>7.811705</td>\n",
              "      <td>7.312145</td>\n",
              "      <td>7.785143</td>\n",
              "      <td>3</td>\n",
              "      <td>22.300571</td>\n",
              "      <td>17</td>\n",
              "      <td>17</td>\n",
              "      <td>4.861046</td>\n",
              "      <td>0.622609</td>\n",
              "      <td>1.342600</td>\n",
              "      <td>0.254090</td>\n",
              "      <td>1.605132</td>\n",
              "    </tr>\n",
              "  </tbody>\n",
              "</table>\n",
              "</div>\n",
              "    <div class=\"colab-df-buttons\">\n",
              "\n",
              "  <div class=\"colab-df-container\">\n",
              "    <button class=\"colab-df-convert\" onclick=\"convertToInteractive('df-0336731a-9e96-42e0-af97-34e7f7601337')\"\n",
              "            title=\"Convert this dataframe to an interactive table.\"\n",
              "            style=\"display:none;\">\n",
              "\n",
              "  <svg xmlns=\"http://www.w3.org/2000/svg\" height=\"24px\" viewBox=\"0 -960 960 960\">\n",
              "    <path d=\"M120-120v-720h720v720H120Zm60-500h600v-160H180v160Zm220 220h160v-160H400v160Zm0 220h160v-160H400v160ZM180-400h160v-160H180v160Zm440 0h160v-160H620v160ZM180-180h160v-160H180v160Zm440 0h160v-160H620v160Z\"/>\n",
              "  </svg>\n",
              "    </button>\n",
              "\n",
              "  <style>\n",
              "    .colab-df-container {\n",
              "      display:flex;\n",
              "      gap: 12px;\n",
              "    }\n",
              "\n",
              "    .colab-df-convert {\n",
              "      background-color: #E8F0FE;\n",
              "      border: none;\n",
              "      border-radius: 50%;\n",
              "      cursor: pointer;\n",
              "      display: none;\n",
              "      fill: #1967D2;\n",
              "      height: 32px;\n",
              "      padding: 0 0 0 0;\n",
              "      width: 32px;\n",
              "    }\n",
              "\n",
              "    .colab-df-convert:hover {\n",
              "      background-color: #E2EBFA;\n",
              "      box-shadow: 0px 1px 2px rgba(60, 64, 67, 0.3), 0px 1px 3px 1px rgba(60, 64, 67, 0.15);\n",
              "      fill: #174EA6;\n",
              "    }\n",
              "\n",
              "    .colab-df-buttons div {\n",
              "      margin-bottom: 4px;\n",
              "    }\n",
              "\n",
              "    [theme=dark] .colab-df-convert {\n",
              "      background-color: #3B4455;\n",
              "      fill: #D2E3FC;\n",
              "    }\n",
              "\n",
              "    [theme=dark] .colab-df-convert:hover {\n",
              "      background-color: #434B5C;\n",
              "      box-shadow: 0px 1px 3px 1px rgba(0, 0, 0, 0.15);\n",
              "      filter: drop-shadow(0px 1px 2px rgba(0, 0, 0, 0.3));\n",
              "      fill: #FFFFFF;\n",
              "    }\n",
              "  </style>\n",
              "\n",
              "    <script>\n",
              "      const buttonEl =\n",
              "        document.querySelector('#df-0336731a-9e96-42e0-af97-34e7f7601337 button.colab-df-convert');\n",
              "      buttonEl.style.display =\n",
              "        google.colab.kernel.accessAllowed ? 'block' : 'none';\n",
              "\n",
              "      async function convertToInteractive(key) {\n",
              "        const element = document.querySelector('#df-0336731a-9e96-42e0-af97-34e7f7601337');\n",
              "        const dataTable =\n",
              "          await google.colab.kernel.invokeFunction('convertToInteractive',\n",
              "                                                    [key], {});\n",
              "        if (!dataTable) return;\n",
              "\n",
              "        const docLinkHtml = 'Like what you see? Visit the ' +\n",
              "          '<a target=\"_blank\" href=https://colab.research.google.com/notebooks/data_table.ipynb>data table notebook</a>'\n",
              "          + ' to learn more about interactive tables.';\n",
              "        element.innerHTML = '';\n",
              "        dataTable['output_type'] = 'display_data';\n",
              "        await google.colab.output.renderOutput(dataTable, element);\n",
              "        const docLink = document.createElement('div');\n",
              "        docLink.innerHTML = docLinkHtml;\n",
              "        element.appendChild(docLink);\n",
              "      }\n",
              "    </script>\n",
              "  </div>\n",
              "\n",
              "\n",
              "<div id=\"df-b45cd018-1a49-4c23-894c-d6c8665bd628\">\n",
              "  <button class=\"colab-df-quickchart\" onclick=\"quickchart('df-b45cd018-1a49-4c23-894c-d6c8665bd628')\"\n",
              "            title=\"Suggest charts\"\n",
              "            style=\"display:none;\">\n",
              "\n",
              "<svg xmlns=\"http://www.w3.org/2000/svg\" height=\"24px\"viewBox=\"0 0 24 24\"\n",
              "     width=\"24px\">\n",
              "    <g>\n",
              "        <path d=\"M19 3H5c-1.1 0-2 .9-2 2v14c0 1.1.9 2 2 2h14c1.1 0 2-.9 2-2V5c0-1.1-.9-2-2-2zM9 17H7v-7h2v7zm4 0h-2V7h2v10zm4 0h-2v-4h2v4z\"/>\n",
              "    </g>\n",
              "</svg>\n",
              "  </button>\n",
              "\n",
              "<style>\n",
              "  .colab-df-quickchart {\n",
              "      --bg-color: #E8F0FE;\n",
              "      --fill-color: #1967D2;\n",
              "      --hover-bg-color: #E2EBFA;\n",
              "      --hover-fill-color: #174EA6;\n",
              "      --disabled-fill-color: #AAA;\n",
              "      --disabled-bg-color: #DDD;\n",
              "  }\n",
              "\n",
              "  [theme=dark] .colab-df-quickchart {\n",
              "      --bg-color: #3B4455;\n",
              "      --fill-color: #D2E3FC;\n",
              "      --hover-bg-color: #434B5C;\n",
              "      --hover-fill-color: #FFFFFF;\n",
              "      --disabled-bg-color: #3B4455;\n",
              "      --disabled-fill-color: #666;\n",
              "  }\n",
              "\n",
              "  .colab-df-quickchart {\n",
              "    background-color: var(--bg-color);\n",
              "    border: none;\n",
              "    border-radius: 50%;\n",
              "    cursor: pointer;\n",
              "    display: none;\n",
              "    fill: var(--fill-color);\n",
              "    height: 32px;\n",
              "    padding: 0;\n",
              "    width: 32px;\n",
              "  }\n",
              "\n",
              "  .colab-df-quickchart:hover {\n",
              "    background-color: var(--hover-bg-color);\n",
              "    box-shadow: 0 1px 2px rgba(60, 64, 67, 0.3), 0 1px 3px 1px rgba(60, 64, 67, 0.15);\n",
              "    fill: var(--button-hover-fill-color);\n",
              "  }\n",
              "\n",
              "  .colab-df-quickchart-complete:disabled,\n",
              "  .colab-df-quickchart-complete:disabled:hover {\n",
              "    background-color: var(--disabled-bg-color);\n",
              "    fill: var(--disabled-fill-color);\n",
              "    box-shadow: none;\n",
              "  }\n",
              "\n",
              "  .colab-df-spinner {\n",
              "    border: 2px solid var(--fill-color);\n",
              "    border-color: transparent;\n",
              "    border-bottom-color: var(--fill-color);\n",
              "    animation:\n",
              "      spin 1s steps(1) infinite;\n",
              "  }\n",
              "\n",
              "  @keyframes spin {\n",
              "    0% {\n",
              "      border-color: transparent;\n",
              "      border-bottom-color: var(--fill-color);\n",
              "      border-left-color: var(--fill-color);\n",
              "    }\n",
              "    20% {\n",
              "      border-color: transparent;\n",
              "      border-left-color: var(--fill-color);\n",
              "      border-top-color: var(--fill-color);\n",
              "    }\n",
              "    30% {\n",
              "      border-color: transparent;\n",
              "      border-left-color: var(--fill-color);\n",
              "      border-top-color: var(--fill-color);\n",
              "      border-right-color: var(--fill-color);\n",
              "    }\n",
              "    40% {\n",
              "      border-color: transparent;\n",
              "      border-right-color: var(--fill-color);\n",
              "      border-top-color: var(--fill-color);\n",
              "    }\n",
              "    60% {\n",
              "      border-color: transparent;\n",
              "      border-right-color: var(--fill-color);\n",
              "    }\n",
              "    80% {\n",
              "      border-color: transparent;\n",
              "      border-right-color: var(--fill-color);\n",
              "      border-bottom-color: var(--fill-color);\n",
              "    }\n",
              "    90% {\n",
              "      border-color: transparent;\n",
              "      border-bottom-color: var(--fill-color);\n",
              "    }\n",
              "  }\n",
              "</style>\n",
              "\n",
              "  <script>\n",
              "    async function quickchart(key) {\n",
              "      const quickchartButtonEl =\n",
              "        document.querySelector('#' + key + ' button');\n",
              "      quickchartButtonEl.disabled = true;  // To prevent multiple clicks.\n",
              "      quickchartButtonEl.classList.add('colab-df-spinner');\n",
              "      try {\n",
              "        const charts = await google.colab.kernel.invokeFunction(\n",
              "            'suggestCharts', [key], {});\n",
              "      } catch (error) {\n",
              "        console.error('Error during call to suggestCharts:', error);\n",
              "      }\n",
              "      quickchartButtonEl.classList.remove('colab-df-spinner');\n",
              "      quickchartButtonEl.classList.add('colab-df-quickchart-complete');\n",
              "    }\n",
              "    (() => {\n",
              "      let quickchartButtonEl =\n",
              "        document.querySelector('#df-b45cd018-1a49-4c23-894c-d6c8665bd628 button');\n",
              "      quickchartButtonEl.style.display =\n",
              "        google.colab.kernel.accessAllowed ? 'block' : 'none';\n",
              "    })();\n",
              "  </script>\n",
              "</div>\n",
              "\n",
              "    </div>\n",
              "  </div>\n"
            ],
            "application/vnd.google.colaboratory.intrinsic+json": {
              "type": "dataframe",
              "variable_name": "df",
              "summary": "{\n  \"name\": \"df\",\n  \"rows\": 3000,\n  \"fields\": [\n    {\n      \"column\": \"participant_id\",\n      \"properties\": {\n        \"dtype\": \"number\",\n        \"std\": 28,\n        \"min\": 1,\n        \"max\": 100,\n        \"num_unique_values\": 100,\n        \"samples\": [\n          84,\n          54,\n          71\n        ],\n        \"semantic_type\": \"\",\n        \"description\": \"\"\n      }\n    },\n    {\n      \"column\": \"day\",\n      \"properties\": {\n        \"dtype\": \"number\",\n        \"std\": 8,\n        \"min\": 1,\n        \"max\": 30,\n        \"num_unique_values\": 30,\n        \"samples\": [\n          28,\n          16,\n          24\n        ],\n        \"semantic_type\": \"\",\n        \"description\": \"\"\n      }\n    },\n    {\n      \"column\": \"PSS_score\",\n      \"properties\": {\n        \"dtype\": \"number\",\n        \"std\": 8,\n        \"min\": 10,\n        \"max\": 39,\n        \"num_unique_values\": 30,\n        \"samples\": [\n          29,\n          23,\n          26\n        ],\n        \"semantic_type\": \"\",\n        \"description\": \"\"\n      }\n    },\n    {\n      \"column\": \"Openness\",\n      \"properties\": {\n        \"dtype\": \"number\",\n        \"std\": 1.1593098401568531,\n        \"min\": 1.005003488,\n        \"max\": 4.997404661,\n        \"num_unique_values\": 3000,\n        \"samples\": [\n          2.311416588,\n          4.073602146,\n          4.309860469\n        ],\n        \"semantic_type\": \"\",\n        \"description\": \"\"\n      }\n    },\n    {\n      \"column\": \"Conscientiousness\",\n      \"properties\": {\n        \"dtype\": \"number\",\n        \"std\": 1.1405110351103602,\n        \"min\": 1.000982489,\n        \"max\": 4.9991371,\n        \"num_unique_values\": 3000,\n        \"samples\": [\n          3.400593173,\n          2.501011579,\n          3.77994288\n        ],\n        \"semantic_type\": \"\",\n        \"description\": \"\"\n      }\n    },\n    {\n      \"column\": \"Extraversion\",\n      \"properties\": {\n        \"dtype\": \"number\",\n        \"std\": 1.143507495423688,\n        \"min\": 1.000584289,\n        \"max\": 4.997641772,\n        \"num_unique_values\": 3000,\n        \"samples\": [\n          3.154282125,\n          4.577669098,\n          4.030465629\n        ],\n        \"semantic_type\": \"\",\n        \"description\": \"\"\n      }\n    },\n    {\n      \"column\": \"Agreeableness\",\n      \"properties\": {\n        \"dtype\": \"number\",\n        \"std\": 1.161073693104234,\n        \"min\": 1.002205904,\n        \"max\": 4.99988084,\n        \"num_unique_values\": 3000,\n        \"samples\": [\n          2.933391223,\n          2.314413125,\n          3.961147325\n        ],\n        \"semantic_type\": \"\",\n        \"description\": \"\"\n      }\n    },\n    {\n      \"column\": \"Neuroticism\",\n      \"properties\": {\n        \"dtype\": \"number\",\n        \"std\": 1.1586237850597636,\n        \"min\": 1.000172846,\n        \"max\": 4.996408108,\n        \"num_unique_values\": 3000,\n        \"samples\": [\n          2.661068447,\n          3.183414263,\n          1.495240591\n        ],\n        \"semantic_type\": \"\",\n        \"description\": \"\"\n      }\n    },\n    {\n      \"column\": \"sleep_time\",\n      \"properties\": {\n        \"dtype\": \"number\",\n        \"std\": 1.160441664856696,\n        \"min\": 5.003290697,\n        \"max\": 8.999947964,\n        \"num_unique_values\": 3000,\n        \"samples\": [\n          7.018024688,\n          7.516059614,\n          7.51051785\n        ],\n        \"semantic_type\": \"\",\n        \"description\": \"\"\n      }\n    },\n    {\n      \"column\": \"wake_time\",\n      \"properties\": {\n        \"dtype\": \"number\",\n        \"std\": 1.1612253034271327,\n        \"min\": 5.00192651,\n        \"max\": 8.998370732,\n        \"num_unique_values\": 3000,\n        \"samples\": [\n          6.486675968,\n          5.565168088,\n          5.474510162\n        ],\n        \"semantic_type\": \"\",\n        \"description\": \"\"\n      }\n    },\n    {\n      \"column\": \"sleep_duration\",\n      \"properties\": {\n        \"dtype\": \"number\",\n        \"std\": 0.8676015584249042,\n        \"min\": 6.000560973,\n        \"max\": 8.999061409,\n        \"num_unique_values\": 3000,\n        \"samples\": [\n          8.09892737,\n          8.52906215,\n          7.876139813\n        ],\n        \"semantic_type\": \"\",\n        \"description\": \"\"\n      }\n    },\n    {\n      \"column\": \"PSQI_score\",\n      \"properties\": {\n        \"dtype\": \"number\",\n        \"std\": 1,\n        \"min\": 1,\n        \"max\": 4,\n        \"num_unique_values\": 4,\n        \"samples\": [\n          4,\n          2,\n          1\n        ],\n        \"semantic_type\": \"\",\n        \"description\": \"\"\n      }\n    },\n    {\n      \"column\": \"call_duration\",\n      \"properties\": {\n        \"dtype\": \"number\",\n        \"std\": 17.563026861019665,\n        \"min\": 0.002886141,\n        \"max\": 59.98307358,\n        \"num_unique_values\": 3000,\n        \"samples\": [\n          24.98858545,\n          39.99737574,\n          16.15384606\n        ],\n        \"semantic_type\": \"\",\n        \"description\": \"\"\n      }\n    },\n    {\n      \"column\": \"num_calls\",\n      \"properties\": {\n        \"dtype\": \"number\",\n        \"std\": 5,\n        \"min\": 0,\n        \"max\": 19,\n        \"num_unique_values\": 20,\n        \"samples\": [\n          12,\n          13,\n          1\n        ],\n        \"semantic_type\": \"\",\n        \"description\": \"\"\n      }\n    },\n    {\n      \"column\": \"num_sms\",\n      \"properties\": {\n        \"dtype\": \"number\",\n        \"std\": 14,\n        \"min\": 0,\n        \"max\": 49,\n        \"num_unique_values\": 50,\n        \"samples\": [\n          40,\n          15,\n          0\n        ],\n        \"semantic_type\": \"\",\n        \"description\": \"\"\n      }\n    },\n    {\n      \"column\": \"screen_on_time\",\n      \"properties\": {\n        \"dtype\": \"number\",\n        \"std\": 3.1456662845809094,\n        \"min\": 1.006874242,\n        \"max\": 11.99787122,\n        \"num_unique_values\": 3000,\n        \"samples\": [\n          4.286048587,\n          2.583883195,\n          11.93886744\n        ],\n        \"semantic_type\": \"\",\n        \"description\": \"\"\n      }\n    },\n    {\n      \"column\": \"skin_conductance\",\n      \"properties\": {\n        \"dtype\": \"number\",\n        \"std\": 1.2827515636267375,\n        \"min\": 0.501594763,\n        \"max\": 4.999103926,\n        \"num_unique_values\": 3000,\n        \"samples\": [\n          2.075852632,\n          2.299757266,\n          4.429931828\n        ],\n        \"semantic_type\": \"\",\n        \"description\": \"\"\n      }\n    },\n    {\n      \"column\": \"accelerometer\",\n      \"properties\": {\n        \"dtype\": \"number\",\n        \"std\": 0.6885414964896129,\n        \"min\": 0.100790508,\n        \"max\": 2.499946388,\n        \"num_unique_values\": 3000,\n        \"samples\": [\n          1.935948811,\n          0.493005608,\n          0.687794026\n        ],\n        \"semantic_type\": \"\",\n        \"description\": \"\"\n      }\n    },\n    {\n      \"column\": \"mobility_radius\",\n      \"properties\": {\n        \"dtype\": \"number\",\n        \"std\": 0.40252720164794953,\n        \"min\": 0.100041356,\n        \"max\": 1.499889808,\n        \"num_unique_values\": 3000,\n        \"samples\": [\n          0.486247491,\n          0.125782713,\n          1.24979765\n        ],\n        \"semantic_type\": \"\",\n        \"description\": \"\"\n      }\n    },\n    {\n      \"column\": \"mobility_distance\",\n      \"properties\": {\n        \"dtype\": \"number\",\n        \"std\": 1.3068180543456864,\n        \"min\": 0.501621966,\n        \"max\": 4.999928983,\n        \"num_unique_values\": 3000,\n        \"samples\": [\n          4.066899976,\n          1.326426922,\n          4.376271378\n        ],\n        \"semantic_type\": \"\",\n        \"description\": \"\"\n      }\n    }\n  ]\n}"
            }
          },
          "metadata": {},
          "execution_count": 21
        }
      ]
    },
    {
      "cell_type": "code",
      "source": [
        "#shape of dfset\n",
        "df.shape"
      ],
      "metadata": {
        "id": "uc4hvKQCK_-k",
        "colab": {
          "base_uri": "https://localhost:8080/"
        },
        "outputId": "d69d46e4-7ea4-4ca4-ee3b-36142bc07fc9"
      },
      "execution_count": 22,
      "outputs": [
        {
          "output_type": "execute_result",
          "data": {
            "text/plain": [
              "(3000, 20)"
            ]
          },
          "metadata": {},
          "execution_count": 22
        }
      ]
    },
    {
      "cell_type": "code",
      "source": [
        "#check the information\n",
        "df.info()"
      ],
      "metadata": {
        "id": "7h_IbYDFLADR",
        "colab": {
          "base_uri": "https://localhost:8080/"
        },
        "outputId": "83b714c6-ead5-4c0b-bdc5-1cc9a0cd4b4e"
      },
      "execution_count": 23,
      "outputs": [
        {
          "output_type": "stream",
          "name": "stdout",
          "text": [
            "<class 'pandas.core.frame.DataFrame'>\n",
            "RangeIndex: 3000 entries, 0 to 2999\n",
            "Data columns (total 20 columns):\n",
            " #   Column             Non-Null Count  Dtype  \n",
            "---  ------             --------------  -----  \n",
            " 0   participant_id     3000 non-null   int64  \n",
            " 1   day                3000 non-null   int64  \n",
            " 2   PSS_score          3000 non-null   int64  \n",
            " 3   Openness           3000 non-null   float64\n",
            " 4   Conscientiousness  3000 non-null   float64\n",
            " 5   Extraversion       3000 non-null   float64\n",
            " 6   Agreeableness      3000 non-null   float64\n",
            " 7   Neuroticism        3000 non-null   float64\n",
            " 8   sleep_time         3000 non-null   float64\n",
            " 9   wake_time          3000 non-null   float64\n",
            " 10  sleep_duration     3000 non-null   float64\n",
            " 11  PSQI_score         3000 non-null   int64  \n",
            " 12  call_duration      3000 non-null   float64\n",
            " 13  num_calls          3000 non-null   int64  \n",
            " 14  num_sms            3000 non-null   int64  \n",
            " 15  screen_on_time     3000 non-null   float64\n",
            " 16  skin_conductance   3000 non-null   float64\n",
            " 17  accelerometer      3000 non-null   float64\n",
            " 18  mobility_radius    3000 non-null   float64\n",
            " 19  mobility_distance  3000 non-null   float64\n",
            "dtypes: float64(14), int64(6)\n",
            "memory usage: 468.9 KB\n"
          ]
        }
      ]
    },
    {
      "cell_type": "code",
      "source": [
        "#check the null values\n",
        "df.isnull().sum()"
      ],
      "metadata": {
        "colab": {
          "base_uri": "https://localhost:8080/",
          "height": 711
        },
        "id": "dSAHOSI8HoDA",
        "outputId": "644a28d3-c7d6-4dad-8506-611efe0580f2"
      },
      "execution_count": 24,
      "outputs": [
        {
          "output_type": "execute_result",
          "data": {
            "text/plain": [
              "participant_id       0\n",
              "day                  0\n",
              "PSS_score            0\n",
              "Openness             0\n",
              "Conscientiousness    0\n",
              "Extraversion         0\n",
              "Agreeableness        0\n",
              "Neuroticism          0\n",
              "sleep_time           0\n",
              "wake_time            0\n",
              "sleep_duration       0\n",
              "PSQI_score           0\n",
              "call_duration        0\n",
              "num_calls            0\n",
              "num_sms              0\n",
              "screen_on_time       0\n",
              "skin_conductance     0\n",
              "accelerometer        0\n",
              "mobility_radius      0\n",
              "mobility_distance    0\n",
              "dtype: int64"
            ],
            "text/html": [
              "<div>\n",
              "<style scoped>\n",
              "    .dataframe tbody tr th:only-of-type {\n",
              "        vertical-align: middle;\n",
              "    }\n",
              "\n",
              "    .dataframe tbody tr th {\n",
              "        vertical-align: top;\n",
              "    }\n",
              "\n",
              "    .dataframe thead th {\n",
              "        text-align: right;\n",
              "    }\n",
              "</style>\n",
              "<table border=\"1\" class=\"dataframe\">\n",
              "  <thead>\n",
              "    <tr style=\"text-align: right;\">\n",
              "      <th></th>\n",
              "      <th>0</th>\n",
              "    </tr>\n",
              "  </thead>\n",
              "  <tbody>\n",
              "    <tr>\n",
              "      <th>participant_id</th>\n",
              "      <td>0</td>\n",
              "    </tr>\n",
              "    <tr>\n",
              "      <th>day</th>\n",
              "      <td>0</td>\n",
              "    </tr>\n",
              "    <tr>\n",
              "      <th>PSS_score</th>\n",
              "      <td>0</td>\n",
              "    </tr>\n",
              "    <tr>\n",
              "      <th>Openness</th>\n",
              "      <td>0</td>\n",
              "    </tr>\n",
              "    <tr>\n",
              "      <th>Conscientiousness</th>\n",
              "      <td>0</td>\n",
              "    </tr>\n",
              "    <tr>\n",
              "      <th>Extraversion</th>\n",
              "      <td>0</td>\n",
              "    </tr>\n",
              "    <tr>\n",
              "      <th>Agreeableness</th>\n",
              "      <td>0</td>\n",
              "    </tr>\n",
              "    <tr>\n",
              "      <th>Neuroticism</th>\n",
              "      <td>0</td>\n",
              "    </tr>\n",
              "    <tr>\n",
              "      <th>sleep_time</th>\n",
              "      <td>0</td>\n",
              "    </tr>\n",
              "    <tr>\n",
              "      <th>wake_time</th>\n",
              "      <td>0</td>\n",
              "    </tr>\n",
              "    <tr>\n",
              "      <th>sleep_duration</th>\n",
              "      <td>0</td>\n",
              "    </tr>\n",
              "    <tr>\n",
              "      <th>PSQI_score</th>\n",
              "      <td>0</td>\n",
              "    </tr>\n",
              "    <tr>\n",
              "      <th>call_duration</th>\n",
              "      <td>0</td>\n",
              "    </tr>\n",
              "    <tr>\n",
              "      <th>num_calls</th>\n",
              "      <td>0</td>\n",
              "    </tr>\n",
              "    <tr>\n",
              "      <th>num_sms</th>\n",
              "      <td>0</td>\n",
              "    </tr>\n",
              "    <tr>\n",
              "      <th>screen_on_time</th>\n",
              "      <td>0</td>\n",
              "    </tr>\n",
              "    <tr>\n",
              "      <th>skin_conductance</th>\n",
              "      <td>0</td>\n",
              "    </tr>\n",
              "    <tr>\n",
              "      <th>accelerometer</th>\n",
              "      <td>0</td>\n",
              "    </tr>\n",
              "    <tr>\n",
              "      <th>mobility_radius</th>\n",
              "      <td>0</td>\n",
              "    </tr>\n",
              "    <tr>\n",
              "      <th>mobility_distance</th>\n",
              "      <td>0</td>\n",
              "    </tr>\n",
              "  </tbody>\n",
              "</table>\n",
              "</div><br><label><b>dtype:</b> int64</label>"
            ]
          },
          "metadata": {},
          "execution_count": 24
        }
      ]
    },
    {
      "cell_type": "code",
      "source": [
        "#check the duplicated rows\n",
        "df.duplicated().sum()"
      ],
      "metadata": {
        "colab": {
          "base_uri": "https://localhost:8080/"
        },
        "id": "95XiWnttHn9R",
        "outputId": "267ea5f2-4cc7-40f7-be80-2d70e586b053"
      },
      "execution_count": 25,
      "outputs": [
        {
          "output_type": "execute_result",
          "data": {
            "text/plain": [
              "0"
            ]
          },
          "metadata": {},
          "execution_count": 25
        }
      ]
    },
    {
      "cell_type": "code",
      "source": [
        "#drop the unnessary column participat_id and day column\n",
        "df.drop(['day','participant_id'],axis=1,inplace=True)"
      ],
      "metadata": {
        "id": "iltdx3VsLAHl"
      },
      "execution_count": 26,
      "outputs": []
    },
    {
      "cell_type": "markdown",
      "source": [
        "#Feature Selection:-"
      ],
      "metadata": {
        "id": "k2Xhdu-KE-gi"
      }
    },
    {
      "cell_type": "code",
      "source": [
        "from sklearn.ensemble import RandomForestRegressor\n",
        "import pandas as pd\n",
        "\n",
        "# Define predictors and target\n",
        "X = df.drop(columns=['PSS_score'])  # Drop target and identifiers\n",
        "y = df['PSS_score']\n",
        "\n",
        "# Train a Random Forest\n",
        "model = RandomForestRegressor(random_state=42)\n",
        "model.fit(X, y)\n",
        "\n",
        "# Get feature importance\n",
        "importance = pd.DataFrame({'Feature': X.columns, 'Importance': model.feature_importances_})\n",
        "importance = importance.sort_values(by='Importance', ascending=False)\n",
        "print(importance)\n",
        "\n",
        "# Keep only the top 10 features\n",
        "top_features = importance['Feature'][:10]\n",
        "reduced_data = df[top_features]\n"
      ],
      "metadata": {
        "id": "MfVlAP4JLAaA",
        "colab": {
          "base_uri": "https://localhost:8080/"
        },
        "outputId": "ed37c5f4-ed1e-4251-9853-78121cbe1441"
      },
      "execution_count": 27,
      "outputs": [
        {
          "output_type": "stream",
          "name": "stdout",
          "text": [
            "              Feature  Importance\n",
            "13   skin_conductance    0.067537\n",
            "12     screen_on_time    0.065931\n",
            "5          sleep_time    0.065786\n",
            "14      accelerometer    0.065356\n",
            "7      sleep_duration    0.065346\n",
            "9       call_duration    0.065061\n",
            "2        Extraversion    0.064327\n",
            "3       Agreeableness    0.064162\n",
            "16  mobility_distance    0.063289\n",
            "4         Neuroticism    0.061791\n",
            "6           wake_time    0.061757\n",
            "1   Conscientiousness    0.061536\n",
            "0            Openness    0.059673\n",
            "15    mobility_radius    0.059339\n",
            "11            num_sms    0.051139\n",
            "10          num_calls    0.041017\n",
            "8          PSQI_score    0.016951\n"
          ]
        }
      ]
    },
    {
      "cell_type": "code",
      "source": [
        "#drop the least correalted to pss_scored\n",
        "df=df.drop(['PSQI_score','num_calls','num_sms'],axis=1)"
      ],
      "metadata": {
        "id": "X3l5cZr3mksa"
      },
      "execution_count": 28,
      "outputs": []
    },
    {
      "cell_type": "code",
      "source": [
        "df.columns"
      ],
      "metadata": {
        "id": "h7j6Q4Zjmkvi",
        "colab": {
          "base_uri": "https://localhost:8080/"
        },
        "outputId": "a9da422a-ad85-4b8d-da4c-d4c226a77956"
      },
      "execution_count": 29,
      "outputs": [
        {
          "output_type": "execute_result",
          "data": {
            "text/plain": [
              "Index(['PSS_score', 'Openness', 'Conscientiousness', 'Extraversion',\n",
              "       'Agreeableness', 'Neuroticism', 'sleep_time', 'wake_time',\n",
              "       'sleep_duration', 'call_duration', 'screen_on_time', 'skin_conductance',\n",
              "       'accelerometer', 'mobility_radius', 'mobility_distance'],\n",
              "      dtype='object')"
            ]
          },
          "metadata": {},
          "execution_count": 29
        }
      ]
    },
    {
      "cell_type": "markdown",
      "source": [
        "Correlation with target column then eliminate column"
      ],
      "metadata": {
        "id": "Kt10HAFtNchy"
      }
    },
    {
      "cell_type": "code",
      "source": [
        "# Compute correlation with PSS_score\n",
        "correlation = df.corr()[\"PSS_score\"].sort_values(ascending=False)\n",
        "\n",
        "# Print correlation\n",
        "correlation"
      ],
      "metadata": {
        "colab": {
          "base_uri": "https://localhost:8080/",
          "height": 554
        },
        "id": "fxPshyMACgLU",
        "outputId": "13e564b2-8ca3-4e19-d5d0-b7bfaaed68c9"
      },
      "execution_count": 31,
      "outputs": [
        {
          "output_type": "execute_result",
          "data": {
            "text/plain": [
              "PSS_score            1.000000\n",
              "skin_conductance     0.016004\n",
              "Neuroticism          0.015813\n",
              "Conscientiousness    0.011215\n",
              "Extraversion         0.010655\n",
              "mobility_radius      0.008731\n",
              "Openness             0.007923\n",
              "call_duration        0.006049\n",
              "accelerometer        0.004656\n",
              "screen_on_time       0.004377\n",
              "Agreeableness       -0.003250\n",
              "wake_time           -0.004925\n",
              "sleep_duration      -0.014899\n",
              "sleep_time          -0.018059\n",
              "mobility_distance   -0.034954\n",
              "Name: PSS_score, dtype: float64"
            ],
            "text/html": [
              "<div>\n",
              "<style scoped>\n",
              "    .dataframe tbody tr th:only-of-type {\n",
              "        vertical-align: middle;\n",
              "    }\n",
              "\n",
              "    .dataframe tbody tr th {\n",
              "        vertical-align: top;\n",
              "    }\n",
              "\n",
              "    .dataframe thead th {\n",
              "        text-align: right;\n",
              "    }\n",
              "</style>\n",
              "<table border=\"1\" class=\"dataframe\">\n",
              "  <thead>\n",
              "    <tr style=\"text-align: right;\">\n",
              "      <th></th>\n",
              "      <th>PSS_score</th>\n",
              "    </tr>\n",
              "  </thead>\n",
              "  <tbody>\n",
              "    <tr>\n",
              "      <th>PSS_score</th>\n",
              "      <td>1.000000</td>\n",
              "    </tr>\n",
              "    <tr>\n",
              "      <th>skin_conductance</th>\n",
              "      <td>0.016004</td>\n",
              "    </tr>\n",
              "    <tr>\n",
              "      <th>Neuroticism</th>\n",
              "      <td>0.015813</td>\n",
              "    </tr>\n",
              "    <tr>\n",
              "      <th>Conscientiousness</th>\n",
              "      <td>0.011215</td>\n",
              "    </tr>\n",
              "    <tr>\n",
              "      <th>Extraversion</th>\n",
              "      <td>0.010655</td>\n",
              "    </tr>\n",
              "    <tr>\n",
              "      <th>mobility_radius</th>\n",
              "      <td>0.008731</td>\n",
              "    </tr>\n",
              "    <tr>\n",
              "      <th>Openness</th>\n",
              "      <td>0.007923</td>\n",
              "    </tr>\n",
              "    <tr>\n",
              "      <th>call_duration</th>\n",
              "      <td>0.006049</td>\n",
              "    </tr>\n",
              "    <tr>\n",
              "      <th>accelerometer</th>\n",
              "      <td>0.004656</td>\n",
              "    </tr>\n",
              "    <tr>\n",
              "      <th>screen_on_time</th>\n",
              "      <td>0.004377</td>\n",
              "    </tr>\n",
              "    <tr>\n",
              "      <th>Agreeableness</th>\n",
              "      <td>-0.003250</td>\n",
              "    </tr>\n",
              "    <tr>\n",
              "      <th>wake_time</th>\n",
              "      <td>-0.004925</td>\n",
              "    </tr>\n",
              "    <tr>\n",
              "      <th>sleep_duration</th>\n",
              "      <td>-0.014899</td>\n",
              "    </tr>\n",
              "    <tr>\n",
              "      <th>sleep_time</th>\n",
              "      <td>-0.018059</td>\n",
              "    </tr>\n",
              "    <tr>\n",
              "      <th>mobility_distance</th>\n",
              "      <td>-0.034954</td>\n",
              "    </tr>\n",
              "  </tbody>\n",
              "</table>\n",
              "</div><br><label><b>dtype:</b> float64</label>"
            ]
          },
          "metadata": {},
          "execution_count": 31
        }
      ]
    },
    {
      "cell_type": "code",
      "source": [
        "#drop the some column according to correlation\n",
        "df.drop(['screen_on_time','accelerometer','call_duration','mobility_distance'],axis=1,inplace=True)"
      ],
      "metadata": {
        "id": "pCcZjddACgOb"
      },
      "execution_count": 32,
      "outputs": []
    },
    {
      "cell_type": "code",
      "source": [
        "df.columns"
      ],
      "metadata": {
        "colab": {
          "base_uri": "https://localhost:8080/"
        },
        "id": "61t_A298CgRS",
        "outputId": "332478da-cb6f-492f-963f-7aff4cbee198"
      },
      "execution_count": 33,
      "outputs": [
        {
          "output_type": "execute_result",
          "data": {
            "text/plain": [
              "Index(['PSS_score', 'Openness', 'Conscientiousness', 'Extraversion',\n",
              "       'Agreeableness', 'Neuroticism', 'sleep_time', 'wake_time',\n",
              "       'sleep_duration', 'skin_conductance', 'mobility_radius'],\n",
              "      dtype='object')"
            ]
          },
          "metadata": {},
          "execution_count": 33
        }
      ]
    },
    {
      "cell_type": "code",
      "source": [
        "# Correlation heatmap\n",
        "plt.figure(figsize=(12, 8))\n",
        "sns.heatmap(df.corr(), annot=True, fmt=\".2f\", cmap=\"coolwarm\")\n",
        "plt.title(\"Correlation Heatmap\")\n",
        "plt.show()"
      ],
      "metadata": {
        "id": "Xl_RHQqnLAma",
        "colab": {
          "base_uri": "https://localhost:8080/",
          "height": 813
        },
        "outputId": "694984ac-7254-47c7-a075-51a62aa103f2"
      },
      "execution_count": 36,
      "outputs": [
        {
          "output_type": "display_data",
          "data": {
            "text/plain": [
              "<Figure size 1200x800 with 2 Axes>"
            ],
            "image/png": "[encoded data removed]"
          },
          "metadata": {}
        }
      ]
    },
    {
      "cell_type": "code",
      "source": [
        "#  Feature Distribution\n",
        "df.hist(bins=20, figsize=(14, 10), edgecolor='black')\n",
        "plt.suptitle(\"Feature Distributions\")\n",
        "plt.show()"
      ],
      "metadata": {
        "colab": {
          "base_uri": "https://localhost:8080/",
          "height": 930
        },
        "id": "zRpJzDLLdv0y",
        "outputId": "12f5694f-1c5f-4d33-f30c-3da83a1ca13c"
      },
      "execution_count": 37,
      "outputs": [
        {
          "output_type": "display_data",
          "data": {
            "text/plain": [
              "<Figure size 1400x1000 with 12 Axes>"
            ],
            "image/png": "[encoded data removed]"
          },
          "metadata": {}
        }
      ]
    },
    {
      "cell_type": "code",
      "source": [
        "# Target Analysis\n",
        "plt.figure(figsize=(8, 5))\n",
        "sns.histplot(df[\"PSS_score\"], kde=True, bins=10, color='skyblue')\n",
        "plt.title(\"PSS Score Distribution\")\n",
        "plt.xlabel(\"PSS Score\")\n",
        "plt.ylabel(\"Frequency\")\n",
        "plt.show()"
      ],
      "metadata": {
        "colab": {
          "base_uri": "https://localhost:8080/",
          "height": 487
        },
        "id": "tMLXspfxdv4T",
        "outputId": "942e100f-732b-4915-9609-8cd322197f96"
      },
      "execution_count": 38,
      "outputs": [
        {
          "output_type": "display_data",
          "data": {
            "text/plain": [
              "<Figure size 800x500 with 1 Axes>"
            ],
            "image/png": "[encoded data removed]"
          },
          "metadata": {}
        }
      ]
    },
    {
      "cell_type": "markdown",
      "source": [
        "#Spliting the dataset X,y"
      ],
      "metadata": {
        "id": "8LxaKLRCo4xk"
      }
    },
    {
      "cell_type": "code",
      "source": [
        "X=df.drop('PSS_score',axis=1)\n",
        "y=df['PSS_score']"
      ],
      "metadata": {
        "id": "Q6a2NQQJjZqA"
      },
      "execution_count": 43,
      "outputs": []
    },
    {
      "cell_type": "markdown",
      "source": [
        "#Spliting the dataset in to train and test"
      ],
      "metadata": {
        "id": "otekwniMpYQh"
      }
    },
    {
      "cell_type": "code",
      "source": [
        "X_train,X_test,y_train,y_test=train_test_split(X,y,test_size=0.2,random_state=42)"
      ],
      "metadata": {
        "id": "M7fxdsNTkJDy"
      },
      "execution_count": 44,
      "outputs": []
    },
    {
      "cell_type": "markdown",
      "source": [
        "#Training model"
      ],
      "metadata": {
        "id": "G_EAk-7qs7Q6"
      }
    },
    {
      "cell_type": "code",
      "source": [
        "model=LinearRegression()"
      ],
      "metadata": {
        "id": "ffqWGQD9rts2"
      },
      "execution_count": 49,
      "outputs": []
    },
    {
      "cell_type": "code",
      "source": [
        "model.fit(X_train, y_train)  # Train the model\n",
        "y_pred = model.predict(X_test)"
      ],
      "metadata": {
        "id": "GciQT4cBrtp8"
      },
      "execution_count": 50,
      "outputs": []
    },
    {
      "cell_type": "code",
      "source": [
        "model.fit(X_train, y_train)  # Train the model\n",
        "y_pred = model.predict(X_test)"
      ],
      "metadata": {
        "id": "XizjjX0zrtlR"
      },
      "execution_count": null,
      "outputs": []
    },
    {
      "cell_type": "code",
      "source": [
        "# Evaluate performance\n",
        "r2 = r2_score(y_test, y_pred)\n",
        "mse = mean_squared_error(y_test, y_pred)\n",
        "\n",
        "print(f\" R²: {r2:.4f}, MSE: {mse:.4f}\")"
      ],
      "metadata": {
        "colab": {
          "base_uri": "https://localhost:8080/"
        },
        "id": "33R8QhNMrtjF",
        "outputId": "fbc59c64-bbe5-4bb8-a253-6391247cfe7a"
      },
      "execution_count": 51,
      "outputs": [
        {
          "output_type": "stream",
          "name": "stdout",
          "text": [
            " R²: -0.0057, MSE: 70.9197\n"
          ]
        }
      ]
    },
    {
      "cell_type": "markdown",
      "source": [
        "#Save the model:-"
      ],
      "metadata": {
        "id": "1aBIOBRGvEmp"
      }
    },
    {
      "cell_type": "code",
      "source": [
        "# Save the best model\n",
        "model_filename = \"best_model.pkl\"\n",
        "joblib.dump(model, model_filename)\n",
        "print(f\"Best model saved as {model_filename}.\")"
      ],
      "metadata": {
        "colab": {
          "base_uri": "https://localhost:8080/"
        },
        "id": "eGK-8cnnrtek",
        "outputId": "16b4f2ff-b730-413b-d308-a4664e30f72e"
      },
      "execution_count": 52,
      "outputs": [
        {
          "output_type": "stream",
          "name": "stdout",
          "text": [
            "Best model saved as best_model.pkl.\n"
          ]
        }
      ]
    },
    {
      "cell_type": "code",
      "source": [
        "df.columns"
      ],
      "metadata": {
        "colab": {
          "base_uri": "https://localhost:8080/"
        },
        "id": "DJAnu1zlrtbi",
        "outputId": "10f955bb-a14a-4a3b-fb75-6ce056f0e88f"
      },
      "execution_count": 53,
      "outputs": [
        {
          "output_type": "execute_result",
          "data": {
            "text/plain": [
              "Index(['PSS_score', 'Openness', 'Conscientiousness', 'Extraversion',\n",
              "       'Agreeableness', 'Neuroticism', 'sleep_time', 'wake_time',\n",
              "       'sleep_duration', 'skin_conductance', 'mobility_radius'],\n",
              "      dtype='object')"
            ]
          },
          "metadata": {},
          "execution_count": 53
        }
      ]
    },
    {
      "cell_type": "markdown",
      "source": [
        "#Random input to use model to predict stress level"
      ],
      "metadata": {
        "id": "ATewQq-Yz33s"
      }
    },
    {
      "cell_type": "code",
      "source": [
        "# random input data (adjust ranges as per realistic values for your dataset)\n",
        "random_input = {\n",
        "    \"Openness\": np.random.uniform(1, 5),\n",
        "    \"Conscientiousness\": np.random.uniform(1, 5),\n",
        "    \"Extraversion\": np.random.uniform(1, 5),\n",
        "    \"Agreeableness\": np.random.uniform(1, 5),\n",
        "    \"Neuroticism\": np.random.uniform(1, 5),\n",
        "    \"sleep_time\": np.random.uniform(6, 9),\n",
        "    \"wake_time\": np.random.uniform(5, 8),\n",
        "    \"sleep_duration\": np.random.uniform(6, 9),\n",
        "    \"skin_conductance\": np.random.uniform(0.5, 5),\n",
        "    \"mobility_radius\": np.random.uniform(0.1, 2)\n",
        "}\n"
      ],
      "metadata": {
        "id": "iK_fmDmtrs6q"
      },
      "execution_count": 64,
      "outputs": []
    },
    {
      "cell_type": "code",
      "source": [
        "# Convert to DataFrame\n",
        "random_input_df = pd.DataFrame([random_input])"
      ],
      "metadata": {
        "id": "pMcE-0ltzRq6"
      },
      "execution_count": 67,
      "outputs": []
    },
    {
      "cell_type": "code",
      "source": [
        "print(f\"Random Input:\\n{random_input_df}\")"
      ],
      "metadata": {
        "colab": {
          "base_uri": "https://localhost:8080/"
        },
        "id": "9OmpMsWJzZes",
        "outputId": "175f323f-1ca1-4a9a-9ed4-67b264418dd9"
      },
      "execution_count": 68,
      "outputs": [
        {
          "output_type": "stream",
          "name": "stdout",
          "text": [
            "Random Input:\n",
            "   Openness  Conscientiousness  Extraversion  Agreeableness  Neuroticism  \\\n",
            "0  3.541269           2.720262       2.80821       4.451504     2.833595   \n",
            "\n",
            "   sleep_time  wake_time  sleep_duration  skin_conductance  mobility_radius  \n",
            "0    7.542057   5.978536        6.539426          3.186535         0.316255  \n"
          ]
        }
      ]
    },
    {
      "cell_type": "code",
      "source": [
        "# Load the best model\n",
        "best_model = joblib.load(\"best_model.pkl\")\n",
        "\n",
        "# Predict the target (PSS_score)\n",
        "predicted_pss_score = best_model.predict(random_input_df)\n",
        "print(f\"Predicted PSS Score: {predicted_pss_score[0]:.2f}\")"
      ],
      "metadata": {
        "colab": {
          "base_uri": "https://localhost:8080/"
        },
        "id": "XamJH_SSxkXh",
        "outputId": "dff68c11-4a68-417b-cc2e-d46ae1da660b"
      },
      "execution_count": 69,
      "outputs": [
        {
          "output_type": "stream",
          "name": "stdout",
          "text": [
            "Predicted PSS Score: 24.87\n"
          ]
        }
      ]
    },
    {
      "cell_type": "code",
      "source": [],
      "metadata": {
        "id": "s_MRncvJxkSm"
      },
      "execution_count": null,
      "outputs": []
    },
    {
      "cell_type": "code",
      "source": [],
      "metadata": {
        "id": "hYE6eo1gxj75"
      },
      "execution_count": null,
      "outputs": []
    }
  ]
}